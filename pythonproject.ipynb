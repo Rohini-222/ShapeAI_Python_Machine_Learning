{
  "nbformat": 4,
  "nbformat_minor": 0,
  "metadata": {
    "colab": {
      "name": "pythonproject.ipynb",
      "provenance": [],
      "authorship_tag": "ABX9TyMCBADnhyGgbSA4s93Kl73m",
      "include_colab_link": true
    },
    "kernelspec": {
      "name": "python3",
      "display_name": "Python 3"
    },
    "language_info": {
      "name": "python"
    }
  },
  "cells": [
    {
      "cell_type": "markdown",
      "metadata": {
        "id": "view-in-github",
        "colab_type": "text"
      },
      "source": [
        "<a href=\"https://colab.research.google.com/github/Rohini-222/ShapeAI_Python_Machine_Learning/blob/main/pythonproject.ipynb\" target=\"_parent\"><img src=\"https://colab.research.google.com/assets/colab-badge.svg\" alt=\"Open In Colab\"/></a>"
      ]
    },
    {
      "cell_type": "code",
      "metadata": {
        "id": "3g7SY6rENfUz",
        "colab": {
          "base_uri": "https://localhost:8080/"
        },
        "outputId": "f5d3dd5c-957f-4a16-a6c1-955b28a7d4aa"
      },
      "source": [
        "import requests\n",
        "import os\n",
        "from datetime import datetime\n",
        "\n",
        "api_key = 'd1e3a319fb1e2594a1ad6dae5d0e4fb8'\n",
        "location = input(\"Enter the city name: \")\n",
        "\n",
        "complete_api_link = \"https://api.openweathermap.org/data/2.5/weather?q=\"+location+\"&appid=\"+api_key\n",
        "api_link = requests.get(complete_api_link)\n",
        "api_data = api_link.json()\n",
        "\n",
        "\n",
        "temp_city = ((api_data['main']['temp']) - 273.15)\n",
        "weather_desc = api_data['weather'][0]['description']\n",
        "hmdt = api_data['main']['humidity']\n",
        "wind_spd = api_data['wind']['speed']\n",
        "date_time = datetime.now().strftime(\"%d %b %Y | %I:%M:%S %p\")\n",
        "\n",
        "print (\"________________________________________________________________\")\n",
        "print (\"Weather Stats for - {}  || {}\".format(location.upper(), date_time))\n",
        "print (\"________________________________________________________________\")\n",
        "\n",
        "print (\"# Current temperature is: {:.2f} deg C\".format(temp_city))\n",
        "print (\"# Current weather desc  :\", weather_desc)\n",
        "print (\"# Current Humidity      :\", hmdt, '%')\n",
        "print (\"# Current wind speed    :\", wind_spd ,'kmph')\n",
        "with open('File01.txt', 'w') as f:\n",
        " f.write(\"city: \"+location+\"\\n\"+\"Temperature :\"+str(temp_city)+\"\\nWeather Description :\"+weather_desc+\"\\nHumidity :\"+str(hmdt)+\" %\"+\"\\nWind speed :\"+str(wind_spd)+str(wind_spd)+\" kmph\")"
      ],
      "execution_count": 2,
      "outputs": [
        {
          "output_type": "stream",
          "text": [
            "Enter the city name: kottayam\n",
            "________________________________________________________________\n",
            "Weather Stats for - KOTTAYAM  || 23 Jun 2021 | 09:51:37 AM\n",
            "________________________________________________________________\n",
            "# Current temperature is: 30.01 deg C\n",
            "# Current weather desc  : overcast clouds\n",
            "# Current Humidity      : 71 %\n",
            "# Current wind speed    : 3.62 kmph\n"
          ],
          "name": "stdout"
        }
      ]
    }
  ]
}